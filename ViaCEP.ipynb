{
  "nbformat": 4,
  "nbformat_minor": 0,
  "metadata": {
    "colab": {
      "name": "ViaCEP.ipynb",
      "provenance": [],
      "collapsed_sections": []
    },
    "kernelspec": {
      "name": "python3",
      "display_name": "Python 3"
    },
    "language_info": {
      "name": "python"
    }
  },
  "cells": [
    {
      "cell_type": "markdown",
      "source": [
        "# Realizando consumo de dados do site via cep utilizando o Python."
      ],
      "metadata": {
        "id": "poW-UuThHK7M"
      }
    },
    {
      "cell_type": "code",
      "execution_count": 2,
      "metadata": {
        "id": "1bmoy4x3GglQ"
      },
      "outputs": [],
      "source": [
        "#Importando as biliotecas necessárias\n",
        "import requests\n",
        "import json\n",
        "import pandas as pd\n",
        "import time"
      ]
    },
    {
      "cell_type": "code",
      "source": [
        "#Definindo a URL que será utilizada para o consumo\n",
        "url = \"https://viacep.com.br/ws/3711000/json/\""
      ],
      "metadata": {
        "id": "vqfkpVobGiKQ"
      },
      "execution_count": 3,
      "outputs": []
    },
    {
      "cell_type": "code",
      "source": [
        "#Realizando chamada na API\n",
        "response = None\n",
        "\n",
        "try:\n",
        "  response = requests.get(url)\n",
        "except Exception as e:\n",
        "  print(e)"
      ],
      "metadata": {
        "id": "1s51Fc_nGqFV"
      },
      "execution_count": 4,
      "outputs": []
    },
    {
      "cell_type": "code",
      "source": [
        "#Exibindo o conteúdo da response\n",
        "\n",
        "if response != None and response.status_code == 200:\n",
        "  print(json.loads(response.text))"
      ],
      "metadata": {
        "id": "SC9pBVgRGtS9"
      },
      "execution_count": 5,
      "outputs": []
    },
    {
      "cell_type": "markdown",
      "source": [
        "Agora que foi possível confirmar o funcionamento da API, será criada uma função capaz de realizar o consumo através de uma lista de CEPs."
      ],
      "metadata": {
        "id": "f70X6zRvIeum"
      }
    },
    {
      "cell_type": "code",
      "source": [
        "#Definindo lista de CEPs\n",
        "lista_ceps = ['37110000', '06385125', '12903834', '17057690']"
      ],
      "metadata": {
        "id": "VEbLTRdtHB9s"
      },
      "execution_count": 6,
      "outputs": []
    },
    {
      "cell_type": "code",
      "source": [
        "#Criando função para realizar a consulta\n",
        "def consulta_ceps(lista_ceps):\n",
        "\n",
        "  lista = []\n",
        "  ceps = lista_ceps\n",
        "  for i in ceps:\n",
        "    url = \"https://viacep.com.br/ws/\" + i + \"/json/\"\n",
        "\n",
        "    try:\n",
        "      response = requests.get(url)\n",
        "      time.sleep(0.25)\n",
        "    except Exception as e:\n",
        "      print(e)\n",
        "\n",
        "    if response != None and response.status_code == 200:\n",
        "      lista.append(json.loads(response.text))\n",
        "    \n",
        "  return lista\n",
        "\n"
      ],
      "metadata": {
        "id": "devoNOc1ItyN"
      },
      "execution_count": 7,
      "outputs": []
    },
    {
      "cell_type": "code",
      "source": [
        "#Realizando consumo e atribuindo em uma lista\n",
        "lista = consulta_ceps(lista_ceps)"
      ],
      "metadata": {
        "id": "e_9H4be-IzP9"
      },
      "execution_count": 8,
      "outputs": []
    },
    {
      "cell_type": "code",
      "source": [
        "#Criando dataframe para leitura da lista\n",
        "df = pd.DataFrame(lista)\n",
        "df"
      ],
      "metadata": {
        "colab": {
          "base_uri": "https://localhost:8080/",
          "height": 175
        },
        "id": "b0R9e-mKNEL9",
        "outputId": "9c56c3e8-2fee-4554-eb5c-b3e98292d103"
      },
      "execution_count": 9,
      "outputs": [
        {
          "output_type": "execute_result",
          "data": {
            "text/plain": [
              "         cep            logradouro complemento                bairro  \\\n",
              "0  37110-000                                                           \n",
              "1  06385-125  Rua Sete de Setembro                    Parque Roseira   \n",
              "2        NaN                   NaN         NaN                   NaN   \n",
              "3  17057-690              Rua Sete              Parque Val de Palmas   \n",
              "\n",
              "    localidade   uf     ibge   gia  ddd siafi  erro  \n",
              "0  Elói Mendes   MG  3123601         35  4471   NaN  \n",
              "1  Carapicuíba   SP  3510609  2550   11  6313   NaN  \n",
              "2          NaN  NaN      NaN   NaN  NaN   NaN  true  \n",
              "3        Bauru   SP  3506003  2094   14  6219   NaN  "
            ],
            "text/html": [
              "\n",
              "  <div id=\"df-5fb10659-3b20-4a0a-9559-051c43b50f53\">\n",
              "    <div class=\"colab-df-container\">\n",
              "      <div>\n",
              "<style scoped>\n",
              "    .dataframe tbody tr th:only-of-type {\n",
              "        vertical-align: middle;\n",
              "    }\n",
              "\n",
              "    .dataframe tbody tr th {\n",
              "        vertical-align: top;\n",
              "    }\n",
              "\n",
              "    .dataframe thead th {\n",
              "        text-align: right;\n",
              "    }\n",
              "</style>\n",
              "<table border=\"1\" class=\"dataframe\">\n",
              "  <thead>\n",
              "    <tr style=\"text-align: right;\">\n",
              "      <th></th>\n",
              "      <th>cep</th>\n",
              "      <th>logradouro</th>\n",
              "      <th>complemento</th>\n",
              "      <th>bairro</th>\n",
              "      <th>localidade</th>\n",
              "      <th>uf</th>\n",
              "      <th>ibge</th>\n",
              "      <th>gia</th>\n",
              "      <th>ddd</th>\n",
              "      <th>siafi</th>\n",
              "      <th>erro</th>\n",
              "    </tr>\n",
              "  </thead>\n",
              "  <tbody>\n",
              "    <tr>\n",
              "      <th>0</th>\n",
              "      <td>37110-000</td>\n",
              "      <td></td>\n",
              "      <td></td>\n",
              "      <td></td>\n",
              "      <td>Elói Mendes</td>\n",
              "      <td>MG</td>\n",
              "      <td>3123601</td>\n",
              "      <td></td>\n",
              "      <td>35</td>\n",
              "      <td>4471</td>\n",
              "      <td>NaN</td>\n",
              "    </tr>\n",
              "    <tr>\n",
              "      <th>1</th>\n",
              "      <td>06385-125</td>\n",
              "      <td>Rua Sete de Setembro</td>\n",
              "      <td></td>\n",
              "      <td>Parque Roseira</td>\n",
              "      <td>Carapicuíba</td>\n",
              "      <td>SP</td>\n",
              "      <td>3510609</td>\n",
              "      <td>2550</td>\n",
              "      <td>11</td>\n",
              "      <td>6313</td>\n",
              "      <td>NaN</td>\n",
              "    </tr>\n",
              "    <tr>\n",
              "      <th>2</th>\n",
              "      <td>NaN</td>\n",
              "      <td>NaN</td>\n",
              "      <td>NaN</td>\n",
              "      <td>NaN</td>\n",
              "      <td>NaN</td>\n",
              "      <td>NaN</td>\n",
              "      <td>NaN</td>\n",
              "      <td>NaN</td>\n",
              "      <td>NaN</td>\n",
              "      <td>NaN</td>\n",
              "      <td>true</td>\n",
              "    </tr>\n",
              "    <tr>\n",
              "      <th>3</th>\n",
              "      <td>17057-690</td>\n",
              "      <td>Rua Sete</td>\n",
              "      <td></td>\n",
              "      <td>Parque Val de Palmas</td>\n",
              "      <td>Bauru</td>\n",
              "      <td>SP</td>\n",
              "      <td>3506003</td>\n",
              "      <td>2094</td>\n",
              "      <td>14</td>\n",
              "      <td>6219</td>\n",
              "      <td>NaN</td>\n",
              "    </tr>\n",
              "  </tbody>\n",
              "</table>\n",
              "</div>\n",
              "      <button class=\"colab-df-convert\" onclick=\"convertToInteractive('df-5fb10659-3b20-4a0a-9559-051c43b50f53')\"\n",
              "              title=\"Convert this dataframe to an interactive table.\"\n",
              "              style=\"display:none;\">\n",
              "        \n",
              "  <svg xmlns=\"http://www.w3.org/2000/svg\" height=\"24px\"viewBox=\"0 0 24 24\"\n",
              "       width=\"24px\">\n",
              "    <path d=\"M0 0h24v24H0V0z\" fill=\"none\"/>\n",
              "    <path d=\"M18.56 5.44l.94 2.06.94-2.06 2.06-.94-2.06-.94-.94-2.06-.94 2.06-2.06.94zm-11 1L8.5 8.5l.94-2.06 2.06-.94-2.06-.94L8.5 2.5l-.94 2.06-2.06.94zm10 10l.94 2.06.94-2.06 2.06-.94-2.06-.94-.94-2.06-.94 2.06-2.06.94z\"/><path d=\"M17.41 7.96l-1.37-1.37c-.4-.4-.92-.59-1.43-.59-.52 0-1.04.2-1.43.59L10.3 9.45l-7.72 7.72c-.78.78-.78 2.05 0 2.83L4 21.41c.39.39.9.59 1.41.59.51 0 1.02-.2 1.41-.59l7.78-7.78 2.81-2.81c.8-.78.8-2.07 0-2.86zM5.41 20L4 18.59l7.72-7.72 1.47 1.35L5.41 20z\"/>\n",
              "  </svg>\n",
              "      </button>\n",
              "      \n",
              "  <style>\n",
              "    .colab-df-container {\n",
              "      display:flex;\n",
              "      flex-wrap:wrap;\n",
              "      gap: 12px;\n",
              "    }\n",
              "\n",
              "    .colab-df-convert {\n",
              "      background-color: #E8F0FE;\n",
              "      border: none;\n",
              "      border-radius: 50%;\n",
              "      cursor: pointer;\n",
              "      display: none;\n",
              "      fill: #1967D2;\n",
              "      height: 32px;\n",
              "      padding: 0 0 0 0;\n",
              "      width: 32px;\n",
              "    }\n",
              "\n",
              "    .colab-df-convert:hover {\n",
              "      background-color: #E2EBFA;\n",
              "      box-shadow: 0px 1px 2px rgba(60, 64, 67, 0.3), 0px 1px 3px 1px rgba(60, 64, 67, 0.15);\n",
              "      fill: #174EA6;\n",
              "    }\n",
              "\n",
              "    [theme=dark] .colab-df-convert {\n",
              "      background-color: #3B4455;\n",
              "      fill: #D2E3FC;\n",
              "    }\n",
              "\n",
              "    [theme=dark] .colab-df-convert:hover {\n",
              "      background-color: #434B5C;\n",
              "      box-shadow: 0px 1px 3px 1px rgba(0, 0, 0, 0.15);\n",
              "      filter: drop-shadow(0px 1px 2px rgba(0, 0, 0, 0.3));\n",
              "      fill: #FFFFFF;\n",
              "    }\n",
              "  </style>\n",
              "\n",
              "      <script>\n",
              "        const buttonEl =\n",
              "          document.querySelector('#df-5fb10659-3b20-4a0a-9559-051c43b50f53 button.colab-df-convert');\n",
              "        buttonEl.style.display =\n",
              "          google.colab.kernel.accessAllowed ? 'block' : 'none';\n",
              "\n",
              "        async function convertToInteractive(key) {\n",
              "          const element = document.querySelector('#df-5fb10659-3b20-4a0a-9559-051c43b50f53');\n",
              "          const dataTable =\n",
              "            await google.colab.kernel.invokeFunction('convertToInteractive',\n",
              "                                                     [key], {});\n",
              "          if (!dataTable) return;\n",
              "\n",
              "          const docLinkHtml = 'Like what you see? Visit the ' +\n",
              "            '<a target=\"_blank\" href=https://colab.research.google.com/notebooks/data_table.ipynb>data table notebook</a>'\n",
              "            + ' to learn more about interactive tables.';\n",
              "          element.innerHTML = '';\n",
              "          dataTable['output_type'] = 'display_data';\n",
              "          await google.colab.output.renderOutput(dataTable, element);\n",
              "          const docLink = document.createElement('div');\n",
              "          docLink.innerHTML = docLinkHtml;\n",
              "          element.appendChild(docLink);\n",
              "        }\n",
              "      </script>\n",
              "    </div>\n",
              "  </div>\n",
              "  "
            ]
          },
          "metadata": {},
          "execution_count": 9
        }
      ]
    },
    {
      "cell_type": "code",
      "source": [
        ""
      ],
      "metadata": {
        "id": "ZP30z8YFQ6x3"
      },
      "execution_count": null,
      "outputs": []
    }
  ]
}